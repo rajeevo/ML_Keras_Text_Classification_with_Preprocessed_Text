{
  "nbformat": 4,
  "nbformat_minor": 0,
  "metadata": {
    "colab": {
      "name": "ML_Keras_Text_Classification_with_Preprocessed_Text.ipynb",
      "provenance": [],
      "collapsed_sections": [],
      "authorship_tag": "ABX9TyNKNbp1Glp098mwBTqu/H7V",
      "include_colab_link": true
    },
    "kernelspec": {
      "name": "python3",
      "display_name": "Python 3"
    }
  },
  "cells": [
    {
      "cell_type": "markdown",
      "metadata": {
        "id": "view-in-github",
        "colab_type": "text"
      },
      "source": [
        "<a href=\"https://colab.research.google.com/github/rajeevo/ML_Keras_Text_Classification_with_Preprocessed_Text/blob/master/ML_Keras_Text_Classification_with_Preprocessed_Text.ipynb\" target=\"_parent\"><img src=\"https://colab.research.google.com/assets/colab-badge.svg\" alt=\"Open In Colab\"/></a>"
      ]
    },
    {
      "cell_type": "code",
      "metadata": {
        "id": "h_uxwewd54GZ",
        "colab_type": "code",
        "colab": {}
      },
      "source": [
        "# 1.) Import Libraries"
      ],
      "execution_count": null,
      "outputs": []
    },
    {
      "cell_type": "code",
      "metadata": {
        "id": "72bgUyhG6JRS",
        "colab_type": "code",
        "colab": {
          "base_uri": "https://localhost:8080/",
          "height": 34
        },
        "outputId": "66080530-6959-4f77-8f2f-544f7a4e538c"
      },
      "source": [
        "import tensorflow as tf\n",
        "from tensorflow import keras\n",
        "\n",
        "import tensorflow_datasets as tfds\n",
        "tfds.disable_progress_bar()\n",
        "\n",
        "import numpy as np\n",
        "\n",
        "print(tf.__version__)"
      ],
      "execution_count": null,
      "outputs": [
        {
          "output_type": "stream",
          "text": [
            "2.2.0\n"
          ],
          "name": "stdout"
        }
      ]
    },
    {
      "cell_type": "code",
      "metadata": {
        "id": "LyGrgNwl6dB-",
        "colab_type": "code",
        "colab": {}
      },
      "source": [
        "# 2.) Download the IMBD Dataset"
      ],
      "execution_count": null,
      "outputs": []
    },
    {
      "cell_type": "code",
      "metadata": {
        "id": "ZCXNkkPg6nDW",
        "colab_type": "code",
        "colab": {
          "base_uri": "https://localhost:8080/",
          "height": 125
        },
        "outputId": "6832334f-e201-4e8e-c251-e1803540d0ad"
      },
      "source": [
        "(train_data, test_data), info = tfds.load(\n",
        "    # Use the version pre-encoded with an ~8k vocabulary.\n",
        "    'imdb_reviews/subwords8k', \n",
        "    # Return the train/test datasets as a tuple.\n",
        "    split = (tfds.Split.TRAIN, tfds.Split.TEST),\n",
        "    # Return (example, label) pairs from the dataset (instead of a dictionary).\n",
        "    as_supervised=True,\n",
        "    # Also return the `info` structure. \n",
        "    with_info=True)"
      ],
      "execution_count": null,
      "outputs": [
        {
          "output_type": "stream",
          "text": [
            "\u001b[1mDownloading and preparing dataset imdb_reviews/subwords8k/1.0.0 (download: 80.23 MiB, generated: Unknown size, total: 80.23 MiB) to /root/tensorflow_datasets/imdb_reviews/subwords8k/1.0.0...\u001b[0m\n",
            "Shuffling and writing examples to /root/tensorflow_datasets/imdb_reviews/subwords8k/1.0.0.incompleteAQE27V/imdb_reviews-train.tfrecord\n",
            "Shuffling and writing examples to /root/tensorflow_datasets/imdb_reviews/subwords8k/1.0.0.incompleteAQE27V/imdb_reviews-test.tfrecord\n",
            "Shuffling and writing examples to /root/tensorflow_datasets/imdb_reviews/subwords8k/1.0.0.incompleteAQE27V/imdb_reviews-unsupervised.tfrecord\n",
            "\u001b[1mDataset imdb_reviews downloaded and prepared to /root/tensorflow_datasets/imdb_reviews/subwords8k/1.0.0. Subsequent calls will reuse this data.\u001b[0m\n"
          ],
          "name": "stdout"
        }
      ]
    },
    {
      "cell_type": "code",
      "metadata": {
        "id": "nsUN1viA7qFv",
        "colab_type": "code",
        "colab": {}
      },
      "source": [
        "# 3.) Try the Encoder"
      ],
      "execution_count": null,
      "outputs": []
    },
    {
      "cell_type": "code",
      "metadata": {
        "id": "dri-hZS88Qzp",
        "colab_type": "code",
        "colab": {
          "base_uri": "https://localhost:8080/",
          "height": 34
        },
        "outputId": "ef48860c-6feb-4e7b-9dab-a3f7f8cc11eb"
      },
      "source": [
        "encoder = info.features['text'].encoder\n",
        "print('Vocabulary size: {}'.format(encoder.vocab_size))"
      ],
      "execution_count": null,
      "outputs": [
        {
          "output_type": "stream",
          "text": [
            "Vocabulary size: 8185\n"
          ],
          "name": "stdout"
        }
      ]
    },
    {
      "cell_type": "code",
      "metadata": {
        "id": "e2PiJD5t8k85",
        "colab_type": "code",
        "colab": {
          "base_uri": "https://localhost:8080/",
          "height": 52
        },
        "outputId": "7ec8b84a-1274-49b9-fbb7-101de98ab28f"
      },
      "source": [
        "sample_string = 'Hello Tensorflow.'\n",
        "\n",
        "encoded_string = encoder.encode(sample_string)\n",
        "print('Encoded string is {}'.format(encoded_string))\n",
        "\n",
        "original_string = encoder.decode(encoded_string)\n",
        "print('The original string: \"{}\"'.format(original_string))\n",
        "\n",
        "assert original_string == sample_string"
      ],
      "execution_count": null,
      "outputs": [
        {
          "output_type": "stream",
          "text": [
            "Encoded string is [4025, 222, 6307, 2327, 2934, 7975]\n",
            "The original string: \"Hello Tensorflow.\"\n"
          ],
          "name": "stdout"
        }
      ]
    },
    {
      "cell_type": "code",
      "metadata": {
        "id": "pnqNoVvg9LVh",
        "colab_type": "code",
        "colab": {
          "base_uri": "https://localhost:8080/",
          "height": 123
        },
        "outputId": "385e0391-4892-47ab-eebc-ed312cfdf855"
      },
      "source": [
        "for ts in encoded_string:\n",
        "  print('{} ----> {}'.format(ts, encoder.decode([ts])))"
      ],
      "execution_count": null,
      "outputs": [
        {
          "output_type": "stream",
          "text": [
            "4025 ----> Hell\n",
            "222 ----> o \n",
            "6307 ----> Ten\n",
            "2327 ----> sor\n",
            "2934 ----> flow\n",
            "7975 ----> .\n"
          ],
          "name": "stdout"
        }
      ]
    },
    {
      "cell_type": "code",
      "metadata": {
        "id": "DjpK-qh59s5L",
        "colab_type": "code",
        "colab": {}
      },
      "source": [
        "# 4.) Explore the Dataset"
      ],
      "execution_count": null,
      "outputs": []
    },
    {
      "cell_type": "code",
      "metadata": {
        "id": "yXTjQb2X90xe",
        "colab_type": "code",
        "colab": {
          "base_uri": "https://localhost:8080/",
          "height": 52
        },
        "outputId": "d0c4f315-44c5-4007-9d0f-67696d65bfc0"
      },
      "source": [
        "for train_example, train_label in train_data.take(1):\n",
        "  print('Encoded text:', train_example[:10].numpy())\n",
        "  print('Label:', train_label.numpy())"
      ],
      "execution_count": null,
      "outputs": [
        {
          "output_type": "stream",
          "text": [
            "Encoded text: [  62   18   41  604  927   65    3  644 7968   21]\n",
            "Label: 0\n"
          ],
          "name": "stdout"
        }
      ]
    },
    {
      "cell_type": "code",
      "metadata": {
        "id": "KbVWK5EU_JW5",
        "colab_type": "code",
        "colab": {
          "base_uri": "https://localhost:8080/",
          "height": 124
        },
        "outputId": "19e77527-25be-4bc1-c78e-5acde15ffc02"
      },
      "source": [
        "encoder.decode(train_example)"
      ],
      "execution_count": null,
      "outputs": [
        {
          "output_type": "execute_result",
          "data": {
            "application/vnd.google.colaboratory.intrinsic": {
              "type": "string"
            },
            "text/plain": [
              "\"This was an absolutely terrible movie. Don't be lured in by Christopher Walken or Michael Ironside. Both are great actors, but this must simply be their worst role in history. Even their great acting could not redeem this movie's ridiculous storyline. This movie is an early nineties US propaganda piece. The most pathetic scenes were those when the Columbian rebels were making their cases for revolutions. Maria Conchita Alonso appeared phony, and her pseudo-love affair with Walken was nothing but a pathetic emotional plug in a movie that was devoid of any real meaning. I am disappointed that there are movies like this, ruining actor's like Christopher Walken's good name. I could barely sit through it.\""
            ]
          },
          "metadata": {
            "tags": []
          },
          "execution_count": 15
        }
      ]
    },
    {
      "cell_type": "code",
      "metadata": {
        "id": "bgC7wOmu_aU9",
        "colab_type": "code",
        "colab": {}
      },
      "source": [
        "# 5.) Prepare the Data for Training"
      ],
      "execution_count": null,
      "outputs": []
    },
    {
      "cell_type": "code",
      "metadata": {
        "id": "nRjPtXZI_pMS",
        "colab_type": "code",
        "colab": {}
      },
      "source": [
        "BUFFER_SIZE = 1000\n",
        "\n",
        "train_batches = (\n",
        "    train_data\n",
        "    .shuffle(BUFFER_SIZE)\n",
        "    .padded_batch(32))\n",
        "\n",
        "test_batches = (\n",
        "    test_data\n",
        "    .padded_batch(32))"
      ],
      "execution_count": null,
      "outputs": []
    },
    {
      "cell_type": "code",
      "metadata": {
        "id": "wZaDw6maAun0",
        "colab_type": "code",
        "colab": {}
      },
      "source": [
        "# 6.) Build the Model"
      ],
      "execution_count": null,
      "outputs": []
    },
    {
      "cell_type": "code",
      "metadata": {
        "id": "3Vu3i1yYAyGY",
        "colab_type": "code",
        "colab": {
          "base_uri": "https://localhost:8080/",
          "height": 265
        },
        "outputId": "d6e21fe3-9aae-4862-bbdf-9e152fad5d03"
      },
      "source": [
        "model = keras.Sequential([\n",
        "                          keras.layers.Embedding(encoder.vocab_size, 16),\n",
        "                          keras.layers.GlobalAveragePooling1D(),\n",
        "                          keras.layers.Dense(1)])\n",
        "\n",
        "model.summary()"
      ],
      "execution_count": null,
      "outputs": [
        {
          "output_type": "stream",
          "text": [
            "Model: \"sequential\"\n",
            "_________________________________________________________________\n",
            "Layer (type)                 Output Shape              Param #   \n",
            "=================================================================\n",
            "embedding (Embedding)        (None, None, 16)          130960    \n",
            "_________________________________________________________________\n",
            "global_average_pooling1d (Gl (None, 16)                0         \n",
            "_________________________________________________________________\n",
            "dense (Dense)                (None, 1)                 17        \n",
            "=================================================================\n",
            "Total params: 130,977\n",
            "Trainable params: 130,977\n",
            "Non-trainable params: 0\n",
            "_________________________________________________________________\n"
          ],
          "name": "stdout"
        }
      ]
    },
    {
      "cell_type": "code",
      "metadata": {
        "id": "MJY5MjQ4B4k-",
        "colab_type": "code",
        "colab": {}
      },
      "source": [
        "model.compile(optimizer='adam',\n",
        "              loss=tf.losses.BinaryCrossentropy(from_logits=True),\n",
        "              metrics=['accuracy'])"
      ],
      "execution_count": null,
      "outputs": []
    },
    {
      "cell_type": "code",
      "metadata": {
        "id": "okLLZfalGyaC",
        "colab_type": "code",
        "colab": {}
      },
      "source": [
        "# 7.) Train the Model"
      ],
      "execution_count": null,
      "outputs": []
    },
    {
      "cell_type": "code",
      "metadata": {
        "id": "9UKYmQ64G042",
        "colab_type": "code",
        "colab": {
          "base_uri": "https://localhost:8080/",
          "height": 1000
        },
        "outputId": "bc03a962-983e-42f1-cc29-d15ff03140a3"
      },
      "source": [
        "history = model.fit(train_batches,\n",
        "                    epochs=30,\n",
        "                    validation_data=test_batches,\n",
        "                    validation_steps=30)"
      ],
      "execution_count": null,
      "outputs": [
        {
          "output_type": "stream",
          "text": [
            "Epoch 1/30\n",
            "782/782 [==============================] - 7s 10ms/step - loss: 0.6819 - accuracy: 0.5003 - val_loss: 0.6643 - val_accuracy: 0.5042\n",
            "Epoch 2/30\n",
            "782/782 [==============================] - 7s 9ms/step - loss: 0.6215 - accuracy: 0.5515 - val_loss: 0.5953 - val_accuracy: 0.6010\n",
            "Epoch 3/30\n",
            "782/782 [==============================] - 8s 10ms/step - loss: 0.5415 - accuracy: 0.6625 - val_loss: 0.5329 - val_accuracy: 0.7031\n",
            "Epoch 4/30\n",
            "782/782 [==============================] - 8s 10ms/step - loss: 0.4763 - accuracy: 0.7495 - val_loss: 0.4836 - val_accuracy: 0.7490\n",
            "Epoch 5/30\n",
            "782/782 [==============================] - 7s 10ms/step - loss: 0.4225 - accuracy: 0.8012 - val_loss: 0.4488 - val_accuracy: 0.7542\n",
            "Epoch 6/30\n",
            "782/782 [==============================] - 8s 10ms/step - loss: 0.3812 - accuracy: 0.8341 - val_loss: 0.4186 - val_accuracy: 0.8458\n",
            "Epoch 7/30\n",
            "782/782 [==============================] - 8s 10ms/step - loss: 0.3501 - accuracy: 0.8522 - val_loss: 0.3962 - val_accuracy: 0.8417\n",
            "Epoch 8/30\n",
            "782/782 [==============================] - 8s 10ms/step - loss: 0.3248 - accuracy: 0.8665 - val_loss: 0.3837 - val_accuracy: 0.8313\n",
            "Epoch 9/30\n",
            "782/782 [==============================] - 8s 10ms/step - loss: 0.3027 - accuracy: 0.8794 - val_loss: 0.3698 - val_accuracy: 0.8510\n",
            "Epoch 10/30\n",
            "782/782 [==============================] - 8s 10ms/step - loss: 0.2857 - accuracy: 0.8840 - val_loss: 0.3611 - val_accuracy: 0.8542\n",
            "Epoch 11/30\n",
            "782/782 [==============================] - 8s 10ms/step - loss: 0.2715 - accuracy: 0.8935 - val_loss: 0.3549 - val_accuracy: 0.8656\n",
            "Epoch 12/30\n",
            "782/782 [==============================] - 8s 10ms/step - loss: 0.2599 - accuracy: 0.8987 - val_loss: 0.3504 - val_accuracy: 0.8687\n",
            "Epoch 13/30\n",
            "782/782 [==============================] - 8s 10ms/step - loss: 0.2477 - accuracy: 0.9044 - val_loss: 0.3473 - val_accuracy: 0.8625\n",
            "Epoch 14/30\n",
            "782/782 [==============================] - 7s 10ms/step - loss: 0.2374 - accuracy: 0.9082 - val_loss: 0.3477 - val_accuracy: 0.8583\n",
            "Epoch 15/30\n",
            "782/782 [==============================] - 8s 10ms/step - loss: 0.2299 - accuracy: 0.9122 - val_loss: 0.3439 - val_accuracy: 0.8604\n",
            "Epoch 16/30\n",
            "782/782 [==============================] - 7s 10ms/step - loss: 0.2215 - accuracy: 0.9156 - val_loss: 0.3438 - val_accuracy: 0.8615\n",
            "Epoch 17/30\n",
            "782/782 [==============================] - 8s 10ms/step - loss: 0.2131 - accuracy: 0.9187 - val_loss: 0.3418 - val_accuracy: 0.8635\n",
            "Epoch 18/30\n",
            "782/782 [==============================] - 8s 10ms/step - loss: 0.2058 - accuracy: 0.9224 - val_loss: 0.3435 - val_accuracy: 0.8646\n",
            "Epoch 19/30\n",
            "782/782 [==============================] - 7s 10ms/step - loss: 0.1995 - accuracy: 0.9244 - val_loss: 0.3433 - val_accuracy: 0.8698\n",
            "Epoch 20/30\n",
            "782/782 [==============================] - 7s 9ms/step - loss: 0.1930 - accuracy: 0.9268 - val_loss: 0.3444 - val_accuracy: 0.8687\n",
            "Epoch 21/30\n",
            "782/782 [==============================] - 7s 10ms/step - loss: 0.1872 - accuracy: 0.9287 - val_loss: 0.3485 - val_accuracy: 0.8625\n",
            "Epoch 22/30\n",
            "782/782 [==============================] - 7s 10ms/step - loss: 0.1826 - accuracy: 0.9328 - val_loss: 0.3481 - val_accuracy: 0.8698\n",
            "Epoch 23/30\n",
            "782/782 [==============================] - 8s 10ms/step - loss: 0.1788 - accuracy: 0.9332 - val_loss: 0.3498 - val_accuracy: 0.8698\n",
            "Epoch 24/30\n",
            "782/782 [==============================] - 8s 10ms/step - loss: 0.1715 - accuracy: 0.9366 - val_loss: 0.3531 - val_accuracy: 0.8708\n",
            "Epoch 25/30\n",
            "782/782 [==============================] - 7s 9ms/step - loss: 0.1674 - accuracy: 0.9387 - val_loss: 0.3565 - val_accuracy: 0.8635\n",
            "Epoch 26/30\n",
            "782/782 [==============================] - 8s 10ms/step - loss: 0.1636 - accuracy: 0.9406 - val_loss: 0.3592 - val_accuracy: 0.8677\n",
            "Epoch 27/30\n",
            "782/782 [==============================] - 8s 10ms/step - loss: 0.1592 - accuracy: 0.9422 - val_loss: 0.3699 - val_accuracy: 0.8615\n",
            "Epoch 28/30\n",
            "782/782 [==============================] - 7s 10ms/step - loss: 0.1556 - accuracy: 0.9433 - val_loss: 0.3669 - val_accuracy: 0.8615\n",
            "Epoch 29/30\n",
            "782/782 [==============================] - 7s 9ms/step - loss: 0.1515 - accuracy: 0.9457 - val_loss: 0.3703 - val_accuracy: 0.8687\n",
            "Epoch 30/30\n",
            "782/782 [==============================] - 8s 10ms/step - loss: 0.1477 - accuracy: 0.9468 - val_loss: 0.3763 - val_accuracy: 0.8594\n"
          ],
          "name": "stdout"
        }
      ]
    },
    {
      "cell_type": "code",
      "metadata": {
        "id": "WYhewXjjHDP3",
        "colab_type": "code",
        "colab": {}
      },
      "source": [
        "# 8.) Evaluate the Model"
      ],
      "execution_count": null,
      "outputs": []
    },
    {
      "cell_type": "code",
      "metadata": {
        "id": "X0zf6kZcHH43",
        "colab_type": "code",
        "colab": {
          "base_uri": "https://localhost:8080/",
          "height": 70
        },
        "outputId": "ffdba147-c95e-4eb7-8c7b-767880112507"
      },
      "source": [
        "loss, accuracy = model.evaluate(test_batches)\n",
        "\n",
        "print(\"Loss: \", loss)\n",
        "print(\"Accuracy: \", accuracy)"
      ],
      "execution_count": null,
      "outputs": [
        {
          "output_type": "stream",
          "text": [
            "782/782 [==============================] - 4s 5ms/step - loss: 0.3355 - accuracy: 0.8721\n",
            "Loss:  0.3354659676551819\n",
            "Accuracy:  0.8720800280570984\n"
          ],
          "name": "stdout"
        }
      ]
    },
    {
      "cell_type": "code",
      "metadata": {
        "id": "nzgQfN0wHTuN",
        "colab_type": "code",
        "colab": {}
      },
      "source": [
        "# 9.) Create a Graph of Accuracy and Loss Over Time"
      ],
      "execution_count": null,
      "outputs": []
    },
    {
      "cell_type": "code",
      "metadata": {
        "id": "hNOg9-sfHhvm",
        "colab_type": "code",
        "colab": {
          "base_uri": "https://localhost:8080/",
          "height": 34
        },
        "outputId": "25907e91-5596-418c-fce0-040b73804530"
      },
      "source": [
        "history_dict = history.history\n",
        "history_dict.keys()"
      ],
      "execution_count": null,
      "outputs": [
        {
          "output_type": "execute_result",
          "data": {
            "text/plain": [
              "dict_keys(['loss', 'accuracy', 'val_loss', 'val_accuracy'])"
            ]
          },
          "metadata": {
            "tags": []
          },
          "execution_count": 26
        }
      ]
    },
    {
      "cell_type": "code",
      "metadata": {
        "id": "XeTXehNbHm6h",
        "colab_type": "code",
        "colab": {
          "base_uri": "https://localhost:8080/",
          "height": 294
        },
        "outputId": "af41c44c-772c-4273-df81-5fa29aa568a9"
      },
      "source": [
        "import matplotlib.pyplot as plt\n",
        "\n",
        "acc = history_dict['accuracy']\n",
        "val_acc = history_dict['val_accuracy']\n",
        "loss = history_dict['loss']\n",
        "val_loss = history_dict['val_loss']\n",
        "\n",
        "epochs = range(1, len(acc) + 1)\n",
        "\n",
        "# \"bo\" is for \"blue dot\"\n",
        "plt.plot(epochs, loss, 'bo', label='Training loss')\n",
        "# b is for \"solid blue line\"\n",
        "plt.plot(epochs, val_loss, 'b', label='Validation loss')\n",
        "plt.title('Training and Validation Loss')\n",
        "plt.xlabel('Epochs')\n",
        "plt.ylabel('Loss')\n",
        "plt.legend()\n",
        "\n",
        "plt.show()"
      ],
      "execution_count": null,
      "outputs": [
        {
          "output_type": "display_data",
          "data": {
            "image/png": "[encoded data removed]",
            "text/plain": [
              "<Figure size 432x288 with 1 Axes>"
            ]
          },
          "metadata": {
            "tags": [],
            "needs_background": "light"
          }
        }
      ]
    },
    {
      "cell_type": "code",
      "metadata": {
        "id": "9qazvV1vIbgT",
        "colab_type": "code",
        "colab": {
          "base_uri": "https://localhost:8080/",
          "height": 294
        },
        "outputId": "ab3b04cc-9203-409e-b74f-7455ee1960f4"
      },
      "source": [
        "plt.clf()  # Clear figure\n",
        "\n",
        "plt.plot(epochs, acc, 'bo', label='Training acc')\n",
        "plt.plot(epochs, val_acc, 'b', label='Validation acc')\n",
        "plt.title('Training and Validation Accuracy')\n",
        "plt.xlabel('Epochs')\n",
        "plt.ylabel('Accuracy')\n",
        "plt.legend(loc='lower right')\n",
        "\n",
        "plt.show()"
      ],
      "execution_count": null,
      "outputs": [
        {
          "output_type": "display_data",
          "data": {
            "image/png": "[encoded data removed]",
            "text/plain": [
              "<Figure size 432x288 with 1 Axes>"
            ]
          },
          "metadata": {
            "tags": [],
            "needs_background": "light"
          }
        }
      ]
    },
    {
      "cell_type": "code",
      "metadata": {
        "id": "82X-jKTzI6i5",
        "colab_type": "code",
        "colab": {}
      },
      "source": [
        ""
      ],
      "execution_count": null,
      "outputs": []
    }
  ]
}